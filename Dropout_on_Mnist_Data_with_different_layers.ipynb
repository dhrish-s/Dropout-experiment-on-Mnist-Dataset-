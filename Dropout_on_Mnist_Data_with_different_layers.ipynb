{
  "nbformat": 4,
  "nbformat_minor": 0,
  "metadata": {
    "colab": {
      "provenance": [],
      "authorship_tag": "ABX9TyOJF/o7H1mzOYLaGNtxZ5IX",
      "include_colab_link": true
    },
    "kernelspec": {
      "name": "python3",
      "display_name": "Python 3"
    },
    "language_info": {
      "name": "python"
    }
  },
  "cells": [
    {
      "cell_type": "markdown",
      "metadata": {
        "id": "view-in-github",
        "colab_type": "text"
      },
      "source": [
        "<a href=\"https://colab.research.google.com/github/dhrish-s/Dropout-experiment-on-Mnist-Dataset-/blob/main/Dropout_on_Mnist_Data_with_different_layers.ipynb\" target=\"_parent\"><img src=\"https://colab.research.google.com/assets/colab-badge.svg\" alt=\"Open In Colab\"/></a>"
      ]
    },
    {
      "cell_type": "code",
      "execution_count": 1,
      "metadata": {
        "colab": {
          "base_uri": "https://localhost:8080/"
        },
        "id": "_BnVM_TXIyM2",
        "outputId": "e8255928-6a02-47f8-a416-519c48e05d4d"
      },
      "outputs": [
        {
          "output_type": "stream",
          "name": "stdout",
          "text": [
            "Downloading data from https://storage.googleapis.com/tensorflow/tf-keras-datasets/mnist.npz\n",
            "11490434/11490434 [==============================] - 1s 0us/step\n",
            "Epoch 1/20\n",
            "469/469 [==============================] - 14s 29ms/step - loss: 0.2487 - accuracy: 0.9238 - val_loss: 0.1287 - val_accuracy: 0.9598\n",
            "Epoch 2/20\n",
            "469/469 [==============================] - 6s 14ms/step - loss: 0.1043 - accuracy: 0.9688 - val_loss: 0.0868 - val_accuracy: 0.9740\n",
            "Epoch 3/20\n",
            "469/469 [==============================] - 7s 15ms/step - loss: 0.0762 - accuracy: 0.9773 - val_loss: 0.0757 - val_accuracy: 0.9787\n",
            "Epoch 4/20\n",
            "469/469 [==============================] - 6s 13ms/step - loss: 0.0616 - accuracy: 0.9820 - val_loss: 0.0816 - val_accuracy: 0.9778\n",
            "Epoch 5/20\n",
            "469/469 [==============================] - 7s 15ms/step - loss: 0.0507 - accuracy: 0.9850 - val_loss: 0.0717 - val_accuracy: 0.9812\n",
            "Epoch 6/20\n",
            "469/469 [==============================] - 6s 13ms/step - loss: 0.0446 - accuracy: 0.9867 - val_loss: 0.0840 - val_accuracy: 0.9791\n",
            "Epoch 7/20\n",
            "469/469 [==============================] - 7s 15ms/step - loss: 0.0390 - accuracy: 0.9886 - val_loss: 0.0785 - val_accuracy: 0.9811\n",
            "Epoch 8/20\n",
            "469/469 [==============================] - 7s 15ms/step - loss: 0.0346 - accuracy: 0.9897 - val_loss: 0.0876 - val_accuracy: 0.9816\n",
            "Epoch 9/20\n",
            "469/469 [==============================] - 6s 13ms/step - loss: 0.0306 - accuracy: 0.9907 - val_loss: 0.0880 - val_accuracy: 0.9834\n",
            "Epoch 10/20\n",
            "469/469 [==============================] - 7s 15ms/step - loss: 0.0289 - accuracy: 0.9914 - val_loss: 0.1025 - val_accuracy: 0.9790\n",
            "Epoch 11/20\n",
            "469/469 [==============================] - 7s 15ms/step - loss: 0.0260 - accuracy: 0.9928 - val_loss: 0.0915 - val_accuracy: 0.9829\n",
            "Epoch 12/20\n",
            "469/469 [==============================] - 7s 15ms/step - loss: 0.0262 - accuracy: 0.9927 - val_loss: 0.0912 - val_accuracy: 0.9822\n",
            "Epoch 13/20\n",
            "469/469 [==============================] - 7s 14ms/step - loss: 0.0225 - accuracy: 0.9936 - val_loss: 0.0943 - val_accuracy: 0.9840\n",
            "Epoch 14/20\n",
            "469/469 [==============================] - 7s 15ms/step - loss: 0.0215 - accuracy: 0.9939 - val_loss: 0.1094 - val_accuracy: 0.9822\n",
            "Epoch 15/20\n",
            "469/469 [==============================] - 7s 15ms/step - loss: 0.0215 - accuracy: 0.9941 - val_loss: 0.1141 - val_accuracy: 0.9830\n",
            "Epoch 16/20\n",
            "469/469 [==============================] - 7s 15ms/step - loss: 0.0204 - accuracy: 0.9946 - val_loss: 0.1021 - val_accuracy: 0.9824\n",
            "Epoch 17/20\n",
            "469/469 [==============================] - 7s 15ms/step - loss: 0.0200 - accuracy: 0.9949 - val_loss: 0.1103 - val_accuracy: 0.9834\n",
            "Epoch 18/20\n",
            "469/469 [==============================] - 6s 13ms/step - loss: 0.0185 - accuracy: 0.9949 - val_loss: 0.1202 - val_accuracy: 0.9831\n",
            "Epoch 19/20\n",
            "469/469 [==============================] - 7s 15ms/step - loss: 0.0184 - accuracy: 0.9951 - val_loss: 0.1341 - val_accuracy: 0.9821\n",
            "Epoch 20/20\n",
            "469/469 [==============================] - 6s 14ms/step - loss: 0.0189 - accuracy: 0.9952 - val_loss: 0.1369 - val_accuracy: 0.9826\n",
            "Test loss: 0.13694234192371368\n",
            "Test accuracy: 0.9825999736785889\n"
          ]
        }
      ],
      "source": [
        "import tensorflow as tf\n",
        "from tensorflow import keras\n",
        "from keras.datasets import mnist\n",
        "from keras.models import Sequential\n",
        "from keras.layers import Dense, Dropout\n",
        "from keras.optimizers import RMSprop\n",
        "\n",
        "# Load the MNIST dataset\n",
        "(x_train, y_train), (x_test, y_test) = mnist.load_data()\n",
        "\n",
        "# Preprocess the data\n",
        "x_train = x_train.reshape(60000, 784)\n",
        "x_test = x_test.reshape(10000, 784)\n",
        "x_train = x_train.astype('float32')\n",
        "x_test = x_test.astype('float32')\n",
        "x_train /= 255\n",
        "x_test /= 255\n",
        "y_train = keras.utils.to_categorical(y_train, 10)\n",
        "y_test = keras.utils.to_categorical(y_test, 10)\n",
        "\n",
        "# Define the model\n",
        "model = Sequential()\n",
        "model.add(Dense(512, activation='relu', input_shape=(784,)))\n",
        "model.add(Dropout(0.2)) # Add dropout regularization\n",
        "model.add(Dense(512, activation='relu'))\n",
        "model.add(Dropout(0.2)) # Add dropout regularization\n",
        "model.add(Dense(10, activation='softmax'))\n",
        "\n",
        "# Compile the model\n",
        "model.compile(loss='categorical_crossentropy',\n",
        "              optimizer=RMSprop(),\n",
        "              metrics=['accuracy'])\n",
        "\n",
        "# Train the model\n",
        "history = model.fit(x_train, y_train,\n",
        "                    batch_size=128,\n",
        "                    epochs=20,\n",
        "                    verbose=1,\n",
        "                    validation_data=(x_test, y_test))\n",
        "\n",
        "# Evaluate the model\n",
        "score = model.evaluate(x_test, y_test, verbose=0)\n",
        "print('Test loss:', score[0])\n",
        "print('Test accuracy:', score[1])\n"
      ]
    },
    {
      "cell_type": "code",
      "source": [
        "import numpy as np\n",
        "import tensorflow as tf\n",
        "from tensorflow.keras.datasets import mnist\n",
        "from tensorflow.keras.models import Sequential\n",
        "from tensorflow.keras.layers import Dense, Dropout\n",
        "\n",
        "# Load MNIST dataset\n",
        "(x_train, y_train), (x_test, y_test) = mnist.load_data()\n",
        "\n",
        "# Normalize pixel values\n",
        "x_train = x_train.astype('float32') / 255\n",
        "x_test = x_test.astype('float32') / 255\n",
        "\n",
        "# Flatten images into a 1D vector\n",
        "x_train = x_train.reshape((len(x_train), np.prod(x_train.shape[1:])))\n",
        "x_test = x_test.reshape((len(x_test), np.prod(x_test.shape[1:])))\n",
        "\n",
        "# Define the model architecture\n",
        "model = Sequential([\n",
        "    Dense(512, activation='relu', input_shape=(784,)),\n",
        "    Dropout(0.2),\n",
        "    Dense(10, activation='softmax')\n",
        "])\n",
        "\n",
        "# Compile the model\n",
        "model.compile(loss='sparse_categorical_crossentropy',\n",
        "              optimizer='adam',\n",
        "              metrics=['accuracy'])\n",
        "\n",
        "# Train the model\n",
        "history = model.fit(x_train, y_train,\n",
        "                    batch_size=128,\n",
        "                    epochs=20,\n",
        "                    verbose=1,\n",
        "                    validation_data=(x_test, y_test))\n",
        "\n",
        "# Evaluate the model on test set\n",
        "test_loss, test_acc = model.evaluate(x_test, y_test)\n",
        "print('Test accuracy:', test_acc)\n"
      ],
      "metadata": {
        "colab": {
          "base_uri": "https://localhost:8080/"
        },
        "id": "bTzMik4UI2ER",
        "outputId": "6eb25670-109e-4cca-98fe-4e3da3673114"
      },
      "execution_count": 2,
      "outputs": [
        {
          "output_type": "stream",
          "name": "stdout",
          "text": [
            "Epoch 1/20\n",
            "469/469 [==============================] - 5s 9ms/step - loss: 0.2852 - accuracy: 0.9179 - val_loss: 0.1344 - val_accuracy: 0.9612\n",
            "Epoch 2/20\n",
            "469/469 [==============================] - 5s 10ms/step - loss: 0.1238 - accuracy: 0.9631 - val_loss: 0.0970 - val_accuracy: 0.9713\n",
            "Epoch 3/20\n",
            "469/469 [==============================] - 4s 9ms/step - loss: 0.0853 - accuracy: 0.9745 - val_loss: 0.0859 - val_accuracy: 0.9735\n",
            "Epoch 4/20\n",
            "469/469 [==============================] - 4s 9ms/step - loss: 0.0652 - accuracy: 0.9801 - val_loss: 0.0679 - val_accuracy: 0.9799\n",
            "Epoch 5/20\n",
            "469/469 [==============================] - 5s 10ms/step - loss: 0.0514 - accuracy: 0.9844 - val_loss: 0.0664 - val_accuracy: 0.9797\n",
            "Epoch 6/20\n",
            "469/469 [==============================] - 4s 9ms/step - loss: 0.0405 - accuracy: 0.9883 - val_loss: 0.0693 - val_accuracy: 0.9792\n",
            "Epoch 7/20\n",
            "469/469 [==============================] - 4s 9ms/step - loss: 0.0337 - accuracy: 0.9903 - val_loss: 0.0618 - val_accuracy: 0.9802\n",
            "Epoch 8/20\n",
            "469/469 [==============================] - 5s 10ms/step - loss: 0.0290 - accuracy: 0.9909 - val_loss: 0.0590 - val_accuracy: 0.9813\n",
            "Epoch 9/20\n",
            "469/469 [==============================] - 4s 9ms/step - loss: 0.0246 - accuracy: 0.9923 - val_loss: 0.0563 - val_accuracy: 0.9833\n",
            "Epoch 10/20\n",
            "469/469 [==============================] - 5s 10ms/step - loss: 0.0204 - accuracy: 0.9939 - val_loss: 0.0658 - val_accuracy: 0.9799\n",
            "Epoch 11/20\n",
            "469/469 [==============================] - 4s 9ms/step - loss: 0.0178 - accuracy: 0.9944 - val_loss: 0.0600 - val_accuracy: 0.9822\n",
            "Epoch 12/20\n",
            "469/469 [==============================] - 4s 9ms/step - loss: 0.0163 - accuracy: 0.9950 - val_loss: 0.0640 - val_accuracy: 0.9824\n",
            "Epoch 13/20\n",
            "469/469 [==============================] - 5s 10ms/step - loss: 0.0162 - accuracy: 0.9952 - val_loss: 0.0631 - val_accuracy: 0.9827\n",
            "Epoch 14/20\n",
            "469/469 [==============================] - 4s 9ms/step - loss: 0.0139 - accuracy: 0.9958 - val_loss: 0.0607 - val_accuracy: 0.9838\n",
            "Epoch 15/20\n",
            "469/469 [==============================] - 4s 9ms/step - loss: 0.0113 - accuracy: 0.9964 - val_loss: 0.0635 - val_accuracy: 0.9831\n",
            "Epoch 16/20\n",
            "469/469 [==============================] - 5s 10ms/step - loss: 0.0098 - accuracy: 0.9968 - val_loss: 0.0698 - val_accuracy: 0.9819\n",
            "Epoch 17/20\n",
            "469/469 [==============================] - 4s 9ms/step - loss: 0.0098 - accuracy: 0.9969 - val_loss: 0.0640 - val_accuracy: 0.9833\n",
            "Epoch 18/20\n",
            "469/469 [==============================] - 4s 9ms/step - loss: 0.0119 - accuracy: 0.9961 - val_loss: 0.0712 - val_accuracy: 0.9822\n",
            "Epoch 19/20\n",
            "469/469 [==============================] - 5s 10ms/step - loss: 0.0096 - accuracy: 0.9969 - val_loss: 0.0658 - val_accuracy: 0.9824\n",
            "Epoch 20/20\n",
            "469/469 [==============================] - 4s 9ms/step - loss: 0.0083 - accuracy: 0.9972 - val_loss: 0.0621 - val_accuracy: 0.9842\n",
            "313/313 [==============================] - 1s 2ms/step - loss: 0.0621 - accuracy: 0.9842\n",
            "Test accuracy: 0.9842000007629395\n"
          ]
        }
      ]
    },
    {
      "cell_type": "code",
      "source": [],
      "metadata": {
        "id": "_nTCl124Jnka"
      },
      "execution_count": null,
      "outputs": []
    }
  ]
}