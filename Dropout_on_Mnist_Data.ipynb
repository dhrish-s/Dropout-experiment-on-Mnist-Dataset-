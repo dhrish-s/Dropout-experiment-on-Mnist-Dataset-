{
  "nbformat": 4,
  "nbformat_minor": 0,
  "metadata": {
    "colab": {
      "provenance": [],
      "include_colab_link": true
    },
    "kernelspec": {
      "name": "python3",
      "display_name": "Python 3"
    },
    "language_info": {
      "name": "python"
    }
  },
  "cells": [
    {
      "cell_type": "markdown",
      "metadata": {
        "id": "view-in-github",
        "colab_type": "text"
      },
      "source": [
        "<a href=\"https://colab.research.google.com/github/dhrish-s/Dropout-experiment-on-Mnist-Dataset-/blob/main/Dropout_on_Mnist_Data.ipynb\" target=\"_parent\"><img src=\"https://colab.research.google.com/assets/colab-badge.svg\" alt=\"Open In Colab\"/></a>"
      ]
    },
    {
      "cell_type": "code",
      "execution_count": 1,
      "metadata": {
        "id": "XTfEf_UjO0wj"
      },
      "outputs": [],
      "source": [
        "import tensorflow as tf\n",
        "import pandas as pd\n",
        "import numpy as np\n",
        "from tensorflow import keras\n",
        "from keras.models import Sequential\n",
        "from keras.layers import Dense,Dropout\n",
        "from tensorflow.keras.optimizers import Adam"
      ]
    },
    {
      "cell_type": "code",
      "source": [
        "from keras.datasets import mnist\n",
        "(train_images, train_labels), (test_images, test_labels) = mnist.load_data()\n"
      ],
      "metadata": {
        "id": "nKygVqj1PSsE",
        "colab": {
          "base_uri": "https://localhost:8080/"
        },
        "outputId": "75893055-c1ec-4c8a-ae54-50b2c4628f38"
      },
      "execution_count": 2,
      "outputs": [
        {
          "output_type": "stream",
          "name": "stdout",
          "text": [
            "Downloading data from https://storage.googleapis.com/tensorflow/tf-keras-datasets/mnist.npz\n",
            "11490434/11490434 [==============================] - 1s 0us/step\n"
          ]
        }
      ]
    },
    {
      "cell_type": "code",
      "source": [
        "train_labels.reshape(len(train_labels),1)"
      ],
      "metadata": {
        "colab": {
          "base_uri": "https://localhost:8080/"
        },
        "id": "Gnxc4hOVTO-N",
        "outputId": "b89971b7-8c7b-4ae2-c276-9347e1798eeb"
      },
      "execution_count": 3,
      "outputs": [
        {
          "output_type": "execute_result",
          "data": {
            "text/plain": [
              "array([[5],\n",
              "       [0],\n",
              "       [4],\n",
              "       ...,\n",
              "       [5],\n",
              "       [6],\n",
              "       [8]], dtype=uint8)"
            ]
          },
          "metadata": {},
          "execution_count": 3
        }
      ]
    },
    {
      "cell_type": "code",
      "source": [
        "from keras.utils import to_categorical\n",
        "train_images=train_images.reshape((60000,28*28))\n",
        "train_images=train_images.astype('float32')/255\n",
        "test_images=test_images.reshape((10000,28*28))\n",
        "test_images=test_images.astype('float32')/255\n",
        "train_labels=to_categorical(train_labels)\n",
        "test_labels=to_categorical(test_labels)\n"
      ],
      "metadata": {
        "id": "jzUe2fYfPcoG"
      },
      "execution_count": 4,
      "outputs": []
    },
    {
      "cell_type": "code",
      "source": [
        "network=Sequential()\n",
        "network.add(Dense(784,input_dim=train_images.shape[1],activation='relu'))\n",
        "network.add(Dropout(0.5))\n",
        "network.add(Dense(2048,activation='relu'))\n",
        "network.add(Dropout(0.5))\n",
        "network.add((Dense(2048,activation='relu')))\n",
        "network.add(Dropout(0.5))\n",
        "network.add((Dense(2048,activation='relu')))\n",
        "network.add(Dropout(0.5))\n",
        "network.add(Dense(10,activation='softmax'))\n",
        "\n",
        "network.compile(optimizer='adam',loss='categorical_crossentropy',metrics=['accuracy'])\n",
        "\n",
        "network.fit(train_images,train_labels,epochs=5,batch_size=128)\n",
        "\n",
        "test_loss,test_accuracy=network.evaluate(test_images,test_labels)\n",
        "\n",
        "print(\"Test Accuracy:\",test_accuracy)\n",
        "\n"
      ],
      "metadata": {
        "colab": {
          "base_uri": "https://localhost:8080/"
        },
        "id": "SxOO0vsiP_W-",
        "outputId": "56b727a7-4f5e-4d5c-9bd3-9cbd013d0215"
      },
      "execution_count": null,
      "outputs": [
        {
          "output_type": "stream",
          "name": "stdout",
          "text": [
            "Epoch 1/5\n",
            "469/469 [==============================] - 216s 455ms/step - loss: 0.3618 - accuracy: 0.8880\n",
            "Epoch 2/5\n",
            "469/469 [==============================] - 210s 448ms/step - loss: 0.1932 - accuracy: 0.9456\n",
            "Epoch 3/5\n",
            "252/469 [===============>..............] - ETA: 1:35 - loss: 0.1616 - accuracy: 0.9535"
          ]
        }
      ]
    },
    {
      "cell_type": "code",
      "source": [
        "pred=network.predict(test_images)"
      ],
      "metadata": {
        "id": "Gc4X4b1XX6k3"
      },
      "execution_count": null,
      "outputs": []
    },
    {
      "cell_type": "code",
      "source": [
        "test_images.shape"
      ],
      "metadata": {
        "id": "2CmQp_VeFBlH"
      },
      "execution_count": null,
      "outputs": []
    },
    {
      "cell_type": "code",
      "source": [
        "pred"
      ],
      "metadata": {
        "id": "v0h5IMOFcFPK"
      },
      "execution_count": null,
      "outputs": []
    },
    {
      "cell_type": "code",
      "source": [
        "train_acc = network.network['accuracy']\n",
        "val_acc = network.network['val_accuracy']\n",
        "\n",
        "# Plot the training and validation accuracy over time\n",
        "import matplotlib.pyplot as plt\n",
        "plt.plot(train_acc, label='Training accuracy')\n",
        "plt.plot(val_acc, label='Validation accuracy')\n",
        "plt.xlabel('Epoch')\n",
        "plt.ylabel('Accuracy')\n",
        "plt.legend()\n",
        "plt.show()"
      ],
      "metadata": {
        "id": "qjxUOzhrcIxZ"
      },
      "execution_count": null,
      "outputs": []
    },
    {
      "cell_type": "code",
      "source": [],
      "metadata": {
        "id": "ugL3kxyWXfQJ"
      },
      "execution_count": null,
      "outputs": []
    }
  ]
}